{
  "metadata": {
    "kernelspec": {
      "name": "python",
      "display_name": "Python (Pyodide)",
      "language": "python"
    },
    "language_info": {
      "codemirror_mode": {
        "name": "python",
        "version": 3
      },
      "file_extension": ".py",
      "mimetype": "text/x-python",
      "name": "python",
      "nbconvert_exporter": "python",
      "pygments_lexer": "ipython3",
      "version": "3.8"
    }
  },
  "nbformat_minor": 4,
  "nbformat": 4,
  "cells": [
    {
      "cell_type": "markdown",
      "source": "# Data Science Tools and Ecosystem",
      "metadata": {}
    },
    {
      "cell_type": "markdown",
      "source": "In this notebook, I will be summerizing Data Science Tools and Ecosystems.",
      "metadata": {}
    },
    {
      "cell_type": "markdown",
      "source": "**Objectives:**\n- List commonly used coding languages in Data Science\n- List Libraries commonly used in Data Science\n- List Different Data Science Tools\n- Show different examples of evaluating arithmetic expresstions in Python",
      "metadata": {}
    },
    {
      "cell_type": "markdown",
      "source": "Data Scientists are known to use alot of different coding languages. Some of the more commonly used ones are:\n\n1.R\n\n2.Python\n\n3.SQL\n\n4.Julia\n",
      "metadata": {}
    },
    {
      "cell_type": "markdown",
      "source": "Libraries are a vital part of the work Data Scientists do. Some commonly used ones are:\n\n1.NumPy\n\n2.Pandas\n\n3.Matplotlib\n\n4.TensorFlow",
      "metadata": {}
    },
    {
      "cell_type": "markdown",
      "source": "| Data Science Tools |\n|--------------------|\n| Jupyter Notebook   |\n| RStudio            |\n| Apache Zeppelin    |\n",
      "metadata": {}
    },
    {
      "cell_type": "markdown",
      "source": "### Python is a very popular language in Data Science. Below are a few examples of evaluating arithmetic expresstions.",
      "metadata": {}
    },
    {
      "cell_type": "code",
      "source": " # this is a very simple arithmetic expression to  multiply then add integers\nx=(3*4)+5\nprint(x)",
      "metadata": {
        "trusted": true
      },
      "outputs": [
        {
          "name": "stdout",
          "text": "17\n",
          "output_type": "stream"
        }
      ],
      "execution_count": 13
    },
    {
      "cell_type": "code",
      "source": "# this following expression will convert 200 minutes to hours by dividing the total minutes by 60 to get the hours\nm=200\nHours=m/60\nprint(Hours)",
      "metadata": {
        "trusted": true
      },
      "outputs": [
        {
          "name": "stdout",
          "text": "3.3333333333333335\n",
          "output_type": "stream"
        }
      ],
      "execution_count": 12
    },
    {
      "cell_type": "markdown",
      "source": "## Author\nNoah Prophet",
      "metadata": {}
    },
    {
      "cell_type": "code",
      "source": "",
      "metadata": {
        "trusted": true
      },
      "outputs": [],
      "execution_count": null
    }
  ]
}